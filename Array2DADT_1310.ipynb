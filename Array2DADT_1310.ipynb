{
  "nbformat": 4,
  "nbformat_minor": 0,
  "metadata": {
    "colab": {
      "name": "Array2DADT_1310",
      "provenance": [],
      "collapsed_sections": [],
      "include_colab_link": true
    },
    "kernelspec": {
      "name": "python3",
      "display_name": "Python 3"
    },
    "language_info": {
      "name": "python"
    }
  },
  "cells": [
    {
      "cell_type": "markdown",
      "metadata": {
        "id": "view-in-github",
        "colab_type": "text"
      },
      "source": [
        "<a href=\"https://colab.research.google.com/github/PaulinaHM/Clase19-10/blob/main/Array2DADT_1310.ipynb\" target=\"_parent\"><img src=\"https://colab.research.google.com/assets/colab-badge.svg\" alt=\"Open In Colab\"/></a>"
      ]
    },
    {
      "cell_type": "code",
      "metadata": {
        "id": "NAzG0CqzZDwK"
      },
      "source": [
        "class Array2DADT:\n",
        "    def __init__(self, ren, col):   #Declaramos ren (renglones) y col (columnas)\n",
        "        self.__data = [[ 0 for x in range(col) ] for x in range(ren)]\n",
        "\n",
        "    def clear(self, dato):\n",
        "        self.__data = [[dato for y in range(self.get_col_size())] for x in range (self.get_rows_size())]\n",
        "\n",
        "    def get_rows_size(self):\n",
        "        return len(self.__data)\n",
        "\n",
        "    def get_col_size(self):\n",
        "        return len(self.__data[1])          \n",
        "\n",
        "    def set_item(self, ren, col, dato):\n",
        "        self.__data [ren][col] = dato\n",
        "\n",
        "    def get_item(self, ren, col):\n",
        "        return self.__data[ren][col]\n",
        "\n",
        "    def to_string(self):\n",
        "        cadena = \"\"\n",
        "        for renglon in self.__data:\n",
        "            cadena = cadena + \"|\"\n",
        "            for dato in renglon:\n",
        "                cadena = cadena + str(dato) + \" | \"\n",
        "            cadena = cadena + \"\\n\"\n",
        "        return cadena"
      ],
      "execution_count": 36,
      "outputs": []
    },
    {
      "cell_type": "code",
      "metadata": {
        "id": "waLITILuadQJ",
        "colab": {
          "base_uri": "https://localhost:8080/"
        },
        "outputId": "65aeddb2-a457-43f6-f7ee-3022167ff571"
      },
      "source": [
        "a2d = Array2DADT(3, 6)\n",
        "print(f\"Renglones: {a2d.get_rows_size()}\")\n",
        "print(f\"Columnas: {a2d.get_col_size()}\")\n",
        "print(a2d.to_string())\n",
        "\n",
        "print(\"Generacion 1\")\n",
        "\n",
        "print(\"\")\n",
        "a2d.clear(\"M\")\n",
        "print(a2d.to_string())\n",
        "\n",
        "a2d.set_item(2,3,'O') #Agregamos el item en las coordenadas solicitadas\n",
        "print(a2d.to_string()) #Imprimimos\n",
        "\n",
        "print(a2d.get_item(2, 3)) #Obtememos el item que se encuentra dentro de estas coordenadas"
      ],
      "execution_count": 40,
      "outputs": [
        {
          "output_type": "stream",
          "name": "stdout",
          "text": [
            "Renglones: 3\n",
            "Columnas: 6\n",
            "|0 | 0 | 0 | 0 | 0 | 0 | \n",
            "|0 | 0 | 0 | 0 | 0 | 0 | \n",
            "|0 | 0 | 0 | 0 | 0 | 0 | \n",
            "\n",
            "Generacion 1\n",
            "\n",
            "|M | M | M | M | M | M | \n",
            "|M | M | M | M | M | M | \n",
            "|M | M | M | M | M | M | \n",
            "\n",
            "|M | M | M | M | M | M | \n",
            "|M | M | M | M | M | M | \n",
            "|M | M | M | O | M | M | \n",
            "\n",
            "O\n"
          ]
        }
      ]
    },
    {
      "cell_type": "code",
      "metadata": {
        "id": "tjyJZPzcakBj",
        "colab": {
          "base_uri": "https://localhost:8080/",
          "height": 129
        },
        "outputId": "c59a3ca2-ff90-456d-d6e9-8c2780b8c4d0"
      },
      "source": [
        "\"\"\"\n",
        "Datos iniciales como lo son:\n",
        "- Tamaño de la poblacion (ren y col)\n",
        "- Poblacion inicial\n",
        "- El numero de generaciones a simular\n",
        "\n",
        "Estaran proporcionadas por un archivo de \n",
        "entrada separado por comas (CSV)\n",
        "\n",
        "5   ren\n",
        "5   col\n",
        "\n",
        "0,0,0,0,0\n",
        "0,0,0,0,0\n",
        "0,0,0,0,0\n",
        "0,0,0,0,0\n",
        "0,0,0,0,0\n",
        "10\n",
        "\n",
        "\"\"\"\n",
        "\n",
        "class JuegoDeLaVida:\n",
        "    def __init__(self, ruta_archivo ):\n",
        "\n",
        "        self.rens = None\n",
        "        self.cols = None\n",
        "        self.tablero = None\n",
        "        self.generaciones = None\n",
        "        self.read_gamedata (ruta_archivo)\n",
        "\n",
        "    def read_gamedata(self, archivo):\n",
        "        archivo = open(archivo, 'rt')\n",
        "        lineas = archivo.readlines()\n",
        "        for index in range(len(lineas)):\n",
        "            lineas[index] = lineas[index].strip() #Strip borra espacios.\n",
        "        print(lineas)\n",
        "\n",
        "        self.rens = int(lineas[0])\n",
        "        self.cols = int(lineas[1])\n",
        "        self.tablero = Array2DADT(self.rens, self.cols)\n",
        "        r = 0\n",
        "        c = 0\n",
        "        print(lineas)\n",
        "        for index in range(2, 2 + self.rens, 1):\n",
        "            c = 0\n",
        "            for dato in lineas[index].split(','):\n",
        "                self.tablero.set_item(r, c, int(dato))\n",
        "                c += 1\n",
        "            r += 1\n",
        "          self.generaciones=int(lineas [-1])\n",
        "          print(\"Gens:\", self.generaciones)\n",
        "\n",
        "        print(self.tablero.to_string())\n",
        "\n",
        "      def get_vecinos( self , r , c):\n",
        "        vecinos = []\n",
        "        for ren in range( r-1 , r+2 , 1 ):\n",
        "            for col in range(c-1 , c+2 , 1):\n",
        "                if ren < 0 or ren >= self.tablero.get_row_size() or col < 0 or col >= self.tablero.get_col_size() or (ren==r and col==c):\n",
        "                    pass\n",
        "                else:\n",
        "                    vecinos.append((ren,col))\n",
        "        return vecinos"
      ],
      "execution_count": 46,
      "outputs": [
        {
          "output_type": "error",
          "ename": "IndentationError",
          "evalue": "ignored",
          "traceback": [
            "\u001b[0;36m  File \u001b[0;32m\"<ipython-input-46-59004622d6ac>\"\u001b[0;36m, line \u001b[0;32m50\u001b[0m\n\u001b[0;31m    self.generaciones=int(lineas [-1])\u001b[0m\n\u001b[0m                                      ^\u001b[0m\n\u001b[0;31mIndentationError\u001b[0m\u001b[0;31m:\u001b[0m unindent does not match any outer indentation level\n"
          ]
        }
      ]
    }
  ]
}